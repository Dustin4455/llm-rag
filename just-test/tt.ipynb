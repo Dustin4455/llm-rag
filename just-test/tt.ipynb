{
 "cells": [
  {
   "cell_type": "code",
   "execution_count": 3,
   "metadata": {},
   "outputs": [],
   "source": [
    "import os"
   ]
  },
  {
   "cell_type": "code",
   "execution_count": 4,
   "metadata": {},
   "outputs": [
    {
     "data": {
      "text/plain": [
       "environ{'USER': 'dilshod',\n",
       "        'SSH_CLIENT': '210.119.237.100 50429 22',\n",
       "        'XDG_SESSION_TYPE': 'tty',\n",
       "        'SHLVL': '2',\n",
       "        'MOTD_SHOWN': 'pam',\n",
       "        'HOME': '/home/dilshod',\n",
       "        'DBUS_SESSION_BUS_ADDRESS': 'unix:path=/run/user/1001/bus',\n",
       "        'LOGNAME': 'dilshod',\n",
       "        '_': '/home/dilshod/anaconda3/envs/llms/bin/python',\n",
       "        'XDG_SESSION_CLASS': 'user',\n",
       "        'XDG_SESSION_ID': '11',\n",
       "        'PATH': '/home/dilshod/anaconda3/envs/llms/bin:/home/dilshod/.vscode-server/bin/0ee08df0cf4527e40edc9aa28f4b5bd38bbff2b2/bin/remote-cli:/usr/local/cuda-12.6/bin:/home/dilshod/anaconda3/envs/llms/bin:/home/dilshod/anaconda3/condabin:/usr/local/sbin:/usr/local/bin:/usr/sbin:/usr/bin:/sbin:/bin:/usr/games:/usr/local/games:/snap/bin',\n",
       "        'VSCODE_AGENT_FOLDER': '/home/dilshod/.vscode-server',\n",
       "        'XDG_RUNTIME_DIR': '/run/user/1001',\n",
       "        'LANG': 'C.UTF-8',\n",
       "        'SHELL': '/bin/bash',\n",
       "        'PWD': '/home/dilshod',\n",
       "        'SSH_CONNECTION': '210.119.237.100 50429 10.178.0.2 22',\n",
       "        'XDG_DATA_DIRS': '/usr/local/share:/usr/share:/var/lib/snapd/desktop',\n",
       "        'VSCODE_HANDLES_SIGPIPE': 'true',\n",
       "        'CONDA_EXE': '/home/dilshod/anaconda3/bin/conda',\n",
       "        '_CE_M': '',\n",
       "        'CONDA_PREFIX': '/home/dilshod/anaconda3/envs/llms',\n",
       "        'LS_COLORS': '',\n",
       "        'CONDA_PROMPT_MODIFIER': '(llms) ',\n",
       "        'LESSCLOSE': '/usr/bin/lesspipe %s %s',\n",
       "        '_CE_CONDA': '',\n",
       "        'LESSOPEN': '| /usr/bin/lesspipe %s',\n",
       "        'CONDA_SHLVL': '2',\n",
       "        'CONDA_PYTHON_EXE': '/home/dilshod/anaconda3/bin/python',\n",
       "        'LD_LIBRARY_PATH': '/usr/local/cuda-12.6/lib64:',\n",
       "        'CONDA_DEFAULT_ENV': 'llms',\n",
       "        'VSCODE_AMD_ENTRYPOINT': 'vs/workbench/api/node/extensionHostProcess',\n",
       "        'VSCODE_HANDLES_UNCAUGHT_ERRORS': 'true',\n",
       "        'VSCODE_NLS_CONFIG': '{\"locale\":\"en\",\"osLocale\":\"en\",\"availableLanguages\":{}}',\n",
       "        'BROWSER': '/home/dilshod/.vscode-server/bin/0ee08df0cf4527e40edc9aa28f4b5bd38bbff2b2/bin/helpers/browser.sh',\n",
       "        'VSCODE_CWD': '/home/dilshod',\n",
       "        'ELECTRON_RUN_AS_NODE': '1',\n",
       "        'VSCODE_IPC_HOOK_CLI': '/run/user/1001/vscode-ipc-d90906ba-7787-44b6-a987-ebb473c65e00.sock',\n",
       "        'VSCODE_L10N_BUNDLE_LOCATION': '',\n",
       "        'PYTHONUNBUFFERED': '1',\n",
       "        'CONDA_ROOT': '/home/dilshod/anaconda3',\n",
       "        'PYTHONIOENCODING': 'utf-8',\n",
       "        'CONDA_PREFIX_1': '/home/dilshod/anaconda3',\n",
       "        'PYDEVD_IPYTHON_COMPATIBLE_DEBUGGING': '1',\n",
       "        'PYDEVD_USE_FRAME_EVAL': 'NO',\n",
       "        'TERM': 'xterm-color',\n",
       "        'CLICOLOR': '1',\n",
       "        'FORCE_COLOR': '1',\n",
       "        'CLICOLOR_FORCE': '1',\n",
       "        'PAGER': 'cat',\n",
       "        'GIT_PAGER': 'cat',\n",
       "        'MPLBACKEND': 'module://matplotlib_inline.backend_inline'}"
      ]
     },
     "execution_count": 4,
     "metadata": {},
     "output_type": "execute_result"
    }
   ],
   "source": [
    "os.environ"
   ]
  }
 ],
 "metadata": {
  "kernelspec": {
   "display_name": "llms",
   "language": "python",
   "name": "python3"
  },
  "language_info": {
   "codemirror_mode": {
    "name": "ipython",
    "version": 3
   },
   "file_extension": ".py",
   "mimetype": "text/x-python",
   "name": "python",
   "nbconvert_exporter": "python",
   "pygments_lexer": "ipython3",
   "version": "3.10.14"
  }
 },
 "nbformat": 4,
 "nbformat_minor": 2
}
